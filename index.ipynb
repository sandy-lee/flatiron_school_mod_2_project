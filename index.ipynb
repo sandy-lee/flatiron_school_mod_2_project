{
 "cells": [
  {
   "cell_type": "markdown",
   "metadata": {},
   "source": [
    "# Module 2 Summative Lab\n",
    "\n",
    "## Introduction\n",
    "\n",
    "This is an investigation into the performance of football teams in the German D1 and D2 leagues during 2011. I will be looking at summary performance statistics of teams with a visualisation. I will also be investigating the effect of whether on team performance. I will be using a variety of data sources for this including:\n",
    "\n",
    "* Database of European football performance since the early 00's as the primary data set\n",
    "* This will be cross referenced with historic weather data by location using the [DarkSky API](https://darksky.net/dev)\n",
    "* This information will be uploaded to a Mongo DB for ease of future investigate\n",
    "\n",
    "During these steps I will demostrate awareness and competence of the PEP8 standard for [Python coding](https://www.python.org/dev/peps/pep-0008/) and Object Oriented programming principles.  "
   ]
  },
  {
   "cell_type": "markdown",
   "metadata": {},
   "source": [
    "### Extract, Transform, Load Stage"
   ]
  },
  {
   "cell_type": "code",
   "execution_count": 734,
   "metadata": {},
   "outputs": [],
   "source": [
    "#import libraries and styles for visuals\n",
    "\n",
    "import matplotlib.style as style \n",
    "style.available\n",
    "style.use('seaborn-poster') \n",
    "style.use('fivethirtyeight')\n",
    "from matplotlib import pyplot as plt"
   ]
  },
  {
   "cell_type": "code",
   "execution_count": 684,
   "metadata": {},
   "outputs": [],
   "source": [
    "#import Pandas package and establish connection to the database\n",
    "\n",
    "import pandas as pd\n",
    "import sqlite3 \n",
    "conn = sqlite3.connect('database.sqlite')\n",
    "cur = conn.cursor()"
   ]
  },
  {
   "cell_type": "code",
   "execution_count": 685,
   "metadata": {},
   "outputs": [],
   "source": [
    "#query database for all of the games in Germany in the 2011 season and load into the cursor object \n",
    "\n",
    "all_german_2011_season = cur.execute(\"\"\"SELECT Matches.Match_ID, HomeTeam, AwayTeam, FTHG, FTAG, FTR, Date\n",
    "                                     From Matches\n",
    "                                     JOIN Teams_in_Matches\n",
    "                                     ON Matches.Match_ID = Teams_in_Matches.Match_ID\n",
    "                                     WHERE Matches.Season = 2011 AND (Matches.Div = \"D1\" OR Matches.Div = \"D2\")\n",
    "                                     \"\"\")"
   ]
  },
  {
   "cell_type": "code",
   "execution_count": 686,
   "metadata": {},
   "outputs": [],
   "source": [
    "#retrieve results from cursor object and place the in a Pandas dataframe with the correct column names \n",
    "\n",
    "all_german_2011_season_df = pd.DataFrame(cur.fetchall())\n",
    "all_german_2011_season_df.columns = [i[0] for i in cur.description]"
   ]
  },
  {
   "cell_type": "code",
   "execution_count": 687,
   "metadata": {},
   "outputs": [
    {
     "data": {
      "text/html": [
       "<div>\n",
       "<style scoped>\n",
       "    .dataframe tbody tr th:only-of-type {\n",
       "        vertical-align: middle;\n",
       "    }\n",
       "\n",
       "    .dataframe tbody tr th {\n",
       "        vertical-align: top;\n",
       "    }\n",
       "\n",
       "    .dataframe thead th {\n",
       "        text-align: right;\n",
       "    }\n",
       "</style>\n",
       "<table border=\"1\" class=\"dataframe\">\n",
       "  <thead>\n",
       "    <tr style=\"text-align: right;\">\n",
       "      <th></th>\n",
       "      <th>Match_ID</th>\n",
       "      <th>HomeTeam</th>\n",
       "      <th>AwayTeam</th>\n",
       "      <th>FTHG</th>\n",
       "      <th>FTAG</th>\n",
       "      <th>FTR</th>\n",
       "      <th>Date</th>\n",
       "    </tr>\n",
       "  </thead>\n",
       "  <tbody>\n",
       "    <tr>\n",
       "      <th>0</th>\n",
       "      <td>1092</td>\n",
       "      <td>Nurnberg</td>\n",
       "      <td>Bayern Munich</td>\n",
       "      <td>0</td>\n",
       "      <td>1</td>\n",
       "      <td>A</td>\n",
       "      <td>2012-03-31</td>\n",
       "    </tr>\n",
       "    <tr>\n",
       "      <th>1</th>\n",
       "      <td>1092</td>\n",
       "      <td>Nurnberg</td>\n",
       "      <td>Bayern Munich</td>\n",
       "      <td>0</td>\n",
       "      <td>1</td>\n",
       "      <td>A</td>\n",
       "      <td>2012-03-31</td>\n",
       "    </tr>\n",
       "    <tr>\n",
       "      <th>2</th>\n",
       "      <td>1093</td>\n",
       "      <td>Stuttgart</td>\n",
       "      <td>Bayern Munich</td>\n",
       "      <td>1</td>\n",
       "      <td>2</td>\n",
       "      <td>A</td>\n",
       "      <td>2011-12-11</td>\n",
       "    </tr>\n",
       "    <tr>\n",
       "      <th>3</th>\n",
       "      <td>1093</td>\n",
       "      <td>Stuttgart</td>\n",
       "      <td>Bayern Munich</td>\n",
       "      <td>1</td>\n",
       "      <td>2</td>\n",
       "      <td>A</td>\n",
       "      <td>2011-12-11</td>\n",
       "    </tr>\n",
       "    <tr>\n",
       "      <th>4</th>\n",
       "      <td>1094</td>\n",
       "      <td>Wolfsburg</td>\n",
       "      <td>Bayern Munich</td>\n",
       "      <td>0</td>\n",
       "      <td>1</td>\n",
       "      <td>A</td>\n",
       "      <td>2011-08-13</td>\n",
       "    </tr>\n",
       "  </tbody>\n",
       "</table>\n",
       "</div>"
      ],
      "text/plain": [
       "   Match_ID   HomeTeam       AwayTeam  FTHG  FTAG FTR        Date\n",
       "0      1092   Nurnberg  Bayern Munich     0     1   A  2012-03-31\n",
       "1      1092   Nurnberg  Bayern Munich     0     1   A  2012-03-31\n",
       "2      1093  Stuttgart  Bayern Munich     1     2   A  2011-12-11\n",
       "3      1093  Stuttgart  Bayern Munich     1     2   A  2011-12-11\n",
       "4      1094  Wolfsburg  Bayern Munich     0     1   A  2011-08-13"
      ]
     },
     "execution_count": 687,
     "metadata": {},
     "output_type": "execute_result"
    }
   ],
   "source": [
    "\"\"\"\n",
    "Verify output is as required. Here we have each match played in the season, \n",
    "the teams (home/away hence each match has two entries in the dataframe), \n",
    "the home and the away scores. We also have the result and the date the match \n",
    "was played on.\n",
    "\"\"\"\n",
    "\n",
    "all_german_2011_season_df.head()"
   ]
  },
  {
   "cell_type": "markdown",
   "metadata": {},
   "source": [
    "I am using this table as the basis for all of the other queries that will be made. The first step is to establish the amount of goals scored by each team. To do this we need to build some queries using the basic shape established above in order to total the amount of home, away and draw goals each team scored in the season. All of this data will then need to be put into a Pandas dataframe for analysis. "
   ]
  },
  {
   "cell_type": "markdown",
   "metadata": {},
   "source": [
    "## Goals Scored Analysis"
   ]
  },
  {
   "cell_type": "markdown",
   "metadata": {},
   "source": [
    "I will use the data made available in the above query to do a summative assessment of the performnce of German teams in the 2011 season."
   ]
  },
  {
   "cell_type": "code",
   "execution_count": 688,
   "metadata": {},
   "outputs": [],
   "source": [
    "#this is the query to the amount of goals scored by teams in the league when they were playing away\n",
    "\n",
    "away_team_goals = cur.execute(\"\"\"SELECT AwayTeam AS Team, SUM(FTAG) AS TotalAwayGoals\n",
    "                             From Matches\n",
    "                             JOIN Teams_in_Matches\n",
    "                             ON Matches.Match_ID = Teams_in_Matches.Match_ID\n",
    "                             WHERE Matches.Season = 2011 AND (Matches.Div = \"D1\" OR Matches.Div = \"D2\") AND FTR = \"A\"\n",
    "                             GROUP BY Team\n",
    "                             ORDER BY Team\"\"\")"
   ]
  },
  {
   "cell_type": "code",
   "execution_count": 689,
   "metadata": {},
   "outputs": [],
   "source": [
    "#this data is converted into a dataframe for analysis in Pandas\n",
    "\n",
    "away_team_goals_df = pd.DataFrame(cur.fetchall())\n",
    "away_team_goals_df.columns = [i[0] for i in cur.description]"
   ]
  },
  {
   "cell_type": "code",
   "execution_count": 690,
   "metadata": {},
   "outputs": [],
   "source": [
    "#as above, but we are retrieving the number of goals each team scored in the league when playing at home\n",
    "\n",
    "home_team_goals = cur.execute(\"\"\"SELECT HomeTeam AS Team, SUM(FTHG) AS TotalHomeGoals\n",
    "                             From Matches\n",
    "                             JOIN Teams_in_Matches\n",
    "                             ON Matches.Match_ID = Teams_in_Matches.Match_ID\n",
    "                             WHERE Matches.Season = 2011 AND (Matches.Div = \"D1\" OR Matches.Div = \"D2\") AND FTR = \"H\"\n",
    "                             GROUP BY Team\n",
    "                             ORDER BY Team\"\"\")"
   ]
  },
  {
   "cell_type": "code",
   "execution_count": 691,
   "metadata": {},
   "outputs": [],
   "source": [
    "#as above, this data is convered into a Pandas dataframe for analysis\n",
    "\n",
    "home_team_goals_df = pd.DataFrame(cur.fetchall())\n",
    "home_team_goals_df.columns = [i[0] for i in cur.description]"
   ]
  },
  {
   "cell_type": "code",
   "execution_count": 692,
   "metadata": {},
   "outputs": [],
   "source": [
    "#as above, but we are retrieving the number of goals each team scored in the league when playing away and getting a draw\n",
    "\n",
    "away_team_draw_goals = cur.execute(\"\"\"SELECT AwayTeam AS Team, SUM(FTAG) AS TotalAwayTeamDrawGoals\n",
    "                             From Matches\n",
    "                             JOIN Teams_in_Matches\n",
    "                             ON Matches.Match_ID = Teams_in_Matches.Match_ID\n",
    "                             WHERE Matches.Season = 2011 AND (Matches.Div = \"D1\" OR Matches.Div = \"D2\") AND FTR = \"D\"\n",
    "                             GROUP BY Team\n",
    "                             ORDER BY Team\"\"\")"
   ]
  },
  {
   "cell_type": "code",
   "execution_count": 693,
   "metadata": {},
   "outputs": [],
   "source": [
    "#as above, this data is convered into a Pandas dataframe for analysis\n",
    "\n",
    "away_team_draw_goals_df = pd.DataFrame(cur.fetchall())\n",
    "away_team_draw_goals_df.columns = [i[0] for i in cur.description]"
   ]
  },
  {
   "cell_type": "code",
   "execution_count": 694,
   "metadata": {},
   "outputs": [],
   "source": [
    "#as above, but we are retrieving the number of goals each team scored in the league when playing at home and getting a draw\n",
    "\n",
    "home_team_draw_goals = cur.execute(\"\"\"SELECT HomeTeam AS Team, SUM(FTHG) AS TotalHomeTeamDrawGoals\n",
    "                             From Matches\n",
    "                             JOIN Teams_in_Matches\n",
    "                             ON Matches.Match_ID = Teams_in_Matches.Match_ID\n",
    "                             WHERE Matches.Season = 2011 AND (Matches.Div = \"D1\" OR Matches.Div = \"D2\") AND FTR = \"D\"\n",
    "                             GROUP BY Team\n",
    "                             ORDER BY Team\"\"\")"
   ]
  },
  {
   "cell_type": "code",
   "execution_count": 695,
   "metadata": {},
   "outputs": [],
   "source": [
    "#as above, this data is convered into a Pandas dataframe for analysis\n",
    "\n",
    "home_team_draw_goals_df = pd.DataFrame(cur.fetchall())\n",
    "home_team_draw_goals_df.columns = [i[0] for i in cur.description]"
   ]
  },
  {
   "cell_type": "code",
   "execution_count": 696,
   "metadata": {},
   "outputs": [],
   "source": [
    "#taking all of this information we build a total_goals dataframe\n",
    "\n",
    "total_goals_df = away_team_goals_df.merge(home_team_goals_df, on=\"Team\").merge(away_team_draw_goals_df, on=\"Team\").merge(home_team_draw_goals_df, on=\"Team\")"
   ]
  },
  {
   "cell_type": "code",
   "execution_count": 697,
   "metadata": {},
   "outputs": [],
   "source": [
    "#taking all of this data we build a dataframe that we can then use to get the total number of goals per team in the season. \n",
    "\n",
    "total_goals_df.insert(5,\"TotalGoals\", total_goals_df[\"TotalAwayGoals\"]+total_goals_df[\"TotalHomeGoals\"]\n",
    "                      +total_goals_df[\"TotalAwayTeamDrawGoals\"]+total_goals_df[\"TotalHomeTeamDrawGoals\"])"
   ]
  },
  {
   "cell_type": "code",
   "execution_count": 774,
   "metadata": {},
   "outputs": [
    {
     "data": {
      "text/html": [
       "<div>\n",
       "<style scoped>\n",
       "    .dataframe tbody tr th:only-of-type {\n",
       "        vertical-align: middle;\n",
       "    }\n",
       "\n",
       "    .dataframe tbody tr th {\n",
       "        vertical-align: top;\n",
       "    }\n",
       "\n",
       "    .dataframe thead th {\n",
       "        text-align: right;\n",
       "    }\n",
       "</style>\n",
       "<table border=\"1\" class=\"dataframe\">\n",
       "  <thead>\n",
       "    <tr style=\"text-align: right;\">\n",
       "      <th></th>\n",
       "      <th>Team</th>\n",
       "      <th>TotalAwayGoals</th>\n",
       "      <th>TotalHomeGoals</th>\n",
       "      <th>TotalAwayTeamDrawGoals</th>\n",
       "      <th>TotalHomeTeamDrawGoals</th>\n",
       "      <th>TotalGoals</th>\n",
       "    </tr>\n",
       "  </thead>\n",
       "  <tbody>\n",
       "    <tr>\n",
       "      <th>6</th>\n",
       "      <td>Dortmund</td>\n",
       "      <td>66</td>\n",
       "      <td>76</td>\n",
       "      <td>4</td>\n",
       "      <td>10</td>\n",
       "      <td>156</td>\n",
       "    </tr>\n",
       "    <tr>\n",
       "      <th>9</th>\n",
       "      <td>Ein Frankfurt</td>\n",
       "      <td>60</td>\n",
       "      <td>70</td>\n",
       "      <td>10</td>\n",
       "      <td>6</td>\n",
       "      <td>146</td>\n",
       "    </tr>\n",
       "    <tr>\n",
       "      <th>2</th>\n",
       "      <td>Bayern Munich</td>\n",
       "      <td>46</td>\n",
       "      <td>98</td>\n",
       "      <td>2</td>\n",
       "      <td>0</td>\n",
       "      <td>146</td>\n",
       "    </tr>\n",
       "    <tr>\n",
       "      <th>30</th>\n",
       "      <td>Schalke 04</td>\n",
       "      <td>40</td>\n",
       "      <td>88</td>\n",
       "      <td>8</td>\n",
       "      <td>2</td>\n",
       "      <td>138</td>\n",
       "    </tr>\n",
       "    <tr>\n",
       "      <th>15</th>\n",
       "      <td>Greuther Furth</td>\n",
       "      <td>34</td>\n",
       "      <td>84</td>\n",
       "      <td>16</td>\n",
       "      <td>2</td>\n",
       "      <td>136</td>\n",
       "    </tr>\n",
       "  </tbody>\n",
       "</table>\n",
       "</div>"
      ],
      "text/plain": [
       "              Team  TotalAwayGoals  TotalHomeGoals  TotalAwayTeamDrawGoals  \\\n",
       "6         Dortmund              66              76                       4   \n",
       "9    Ein Frankfurt              60              70                      10   \n",
       "2    Bayern Munich              46              98                       2   \n",
       "30      Schalke 04              40              88                       8   \n",
       "15  Greuther Furth              34              84                      16   \n",
       "\n",
       "    TotalHomeTeamDrawGoals  TotalGoals  \n",
       "6                       10         156  \n",
       "9                        6         146  \n",
       "2                        0         146  \n",
       "30                       2         138  \n",
       "15                       2         136  "
      ]
     },
     "execution_count": 774,
     "metadata": {},
     "output_type": "execute_result"
    }
   ],
   "source": [
    "total_goals_df.sort_values(by=\"TotalGoals\", ascending=False).head(5)"
   ]
  },
  {
   "cell_type": "code",
   "execution_count": 681,
   "metadata": {},
   "outputs": [
    {
     "data": {
      "text/html": [
       "<div>\n",
       "<style scoped>\n",
       "    .dataframe tbody tr th:only-of-type {\n",
       "        vertical-align: middle;\n",
       "    }\n",
       "\n",
       "    .dataframe tbody tr th {\n",
       "        vertical-align: top;\n",
       "    }\n",
       "\n",
       "    .dataframe thead th {\n",
       "        text-align: right;\n",
       "    }\n",
       "</style>\n",
       "<table border=\"1\" class=\"dataframe\">\n",
       "  <thead>\n",
       "    <tr style=\"text-align: right;\">\n",
       "      <th></th>\n",
       "      <th>TotalGoals</th>\n",
       "    </tr>\n",
       "  </thead>\n",
       "  <tbody>\n",
       "    <tr>\n",
       "      <th>count</th>\n",
       "      <td>36.000000</td>\n",
       "    </tr>\n",
       "    <tr>\n",
       "      <th>mean</th>\n",
       "      <td>81.611111</td>\n",
       "    </tr>\n",
       "    <tr>\n",
       "      <th>std</th>\n",
       "      <td>32.970357</td>\n",
       "    </tr>\n",
       "    <tr>\n",
       "      <th>min</th>\n",
       "      <td>34.000000</td>\n",
       "    </tr>\n",
       "    <tr>\n",
       "      <th>25%</th>\n",
       "      <td>61.000000</td>\n",
       "    </tr>\n",
       "    <tr>\n",
       "      <th>50%</th>\n",
       "      <td>71.000000</td>\n",
       "    </tr>\n",
       "    <tr>\n",
       "      <th>75%</th>\n",
       "      <td>99.500000</td>\n",
       "    </tr>\n",
       "    <tr>\n",
       "      <th>max</th>\n",
       "      <td>156.000000</td>\n",
       "    </tr>\n",
       "  </tbody>\n",
       "</table>\n",
       "</div>"
      ],
      "text/plain": [
       "       TotalGoals\n",
       "count   36.000000\n",
       "mean    81.611111\n",
       "std     32.970357\n",
       "min     34.000000\n",
       "25%     61.000000\n",
       "50%     71.000000\n",
       "75%     99.500000\n",
       "max    156.000000"
      ]
     },
     "execution_count": 681,
     "metadata": {},
     "output_type": "execute_result"
    }
   ],
   "source": [
    "summary_df = pd.DataFrame(total_goals_df[\"TotalGoals\"].describe())\n",
    "summary_df"
   ]
  },
  {
   "cell_type": "code",
   "execution_count": 664,
   "metadata": {},
   "outputs": [
    {
     "data": {
      "image/png": "[encoded data removed]",
      "text/plain": [
       "<Figure size 921.6x633.6 with 1 Axes>"
      ]
     },
     "metadata": {},
     "output_type": "display_data"
    }
   ],
   "source": [
    "ax = total_goals_df[\"TotalGoals\"].plot.hist(bins=5)\n",
    "ax.set_xlabel(\"Goals Scored\", fontsize = 20)\n",
    "ax.set_ylabel(\"Count\", fontsize = 20)\n",
    "ax.grid(False)\n",
    "ax.set_title(\"2011 Season German Team Goals\", fontsize = 40)\n",
    "ax.legend(loc='upper right', ncol=3, fancybox=True, bbox_to_anchor=(0.97, 0.7), shadow=True, fontsize = 20);"
   ]
  },
  {
   "cell_type": "markdown",
   "metadata": {},
   "source": [
    "## Goal Scored Analysis\n",
    "\n",
    "Looking at the data for team performance by number of goals scored we see that the top 3 teams by goal scoring are:\n",
    "\n",
    "* Dormund\n",
    "* Ein Frankfurt\n",
    "* Bayern Munich\n",
    "\n",
    "All of these teams score well above the group mean of 80 goals for the season. In terms of the spread of the data, we can see from the histogram that there is a right skew with a high standard deviation and 75% of the teams accounting for 99% of the goals in the population. This shows that there is a high vairance between those teams that do really well in this league and the \"average\" performing teams. Reasons for why this would be so would make an interesting point for further study."
   ]
  },
  {
   "cell_type": "markdown",
   "metadata": {},
   "source": [
    "## Team Performance by wins/losses/draws\n",
    "\n",
    "Building on data aquired in the previous section, I shall now investigte the performance of each team based on the number of wins/losses/draws they achived during the season."
   ]
  },
  {
   "cell_type": "code",
   "execution_count": 700,
   "metadata": {},
   "outputs": [],
   "source": [
    "#we build a list of teams in the league so we can do a summary analysis of performance based on previous data\n",
    "\n",
    "teams = ['Aachen', \n",
    "         'Augsburg',\n",
    "         'Bayern Munich', \n",
    "         'Bochum', \n",
    "         'Braunschweig', \n",
    "         'Cottbus',\n",
    "         'Dortmund',\n",
    "         'Dresden',\n",
    "         'Duisburg',\n",
    "         'Ein Frankfurt',\n",
    "         'Erzgebirge Aue',\n",
    "         'FC Koln',\n",
    "         'Fortuna Dusseldorf',\n",
    "         'Frankfurt FSV',\n",
    "         'Freiburg',\n",
    "         'Greuther Furth',\n",
    "         'Hamburg',\n",
    "         'Hannover',\n",
    "         'Hansa Rostock',\n",
    "         'Hertha',\n",
    "         'Hoffenheim',\n",
    "         'Ingolstadt',\n",
    "         'Kaiserslautern',\n",
    "         'Karlsruhe',\n",
    "         'Leverkusen',\n",
    "         'M\\'gladbach',\n",
    "         'Mainz',\n",
    "         'Munich 1860',\n",
    "         'Nurnberg',\n",
    "         'Paderborn',\n",
    "         'Schalke 04',\n",
    "         'St Pauli',\n",
    "         'Stuttgart',\n",
    "         'Union Berlin',\n",
    "         'Werder Bremen',\n",
    "         'Wolfsburg']"
   ]
  },
  {
   "cell_type": "code",
   "execution_count": 761,
   "metadata": {},
   "outputs": [],
   "source": [
    "#we build an empty dictionary based on the teams with columns for wins, loses and draws\n",
    "\n",
    "win_lose_count_dataframe_shape = {'Team': teams, \n",
    "                                  'Wins': [0]*36, \n",
    "                                  'Loses': [0]*36,\n",
    "                                  'Draws': [0]*36}"
   ]
  },
  {
   "cell_type": "code",
   "execution_count": 762,
   "metadata": {},
   "outputs": [],
   "source": [
    "#we convert the dictionary into a Pandas dataframe for analysis\n",
    "\n",
    "win_lose_count_df = pd.DataFrame(data=win_lose_count_dataframe_shape)"
   ]
  },
  {
   "cell_type": "code",
   "execution_count": 763,
   "metadata": {},
   "outputs": [],
   "source": [
    "#we set the index of the dataframe on the team, to help with easier aggregation\n",
    "\n",
    "win_lose_count_df.set_index(keys=\"Team\", inplace=True)"
   ]
  },
  {
   "cell_type": "code",
   "execution_count": 764,
   "metadata": {},
   "outputs": [
    {
     "data": {
      "text/html": [
       "<div>\n",
       "<style scoped>\n",
       "    .dataframe tbody tr th:only-of-type {\n",
       "        vertical-align: middle;\n",
       "    }\n",
       "\n",
       "    .dataframe tbody tr th {\n",
       "        vertical-align: top;\n",
       "    }\n",
       "\n",
       "    .dataframe thead th {\n",
       "        text-align: right;\n",
       "    }\n",
       "</style>\n",
       "<table border=\"1\" class=\"dataframe\">\n",
       "  <thead>\n",
       "    <tr style=\"text-align: right;\">\n",
       "      <th></th>\n",
       "      <th>Wins</th>\n",
       "      <th>Loses</th>\n",
       "      <th>Draws</th>\n",
       "    </tr>\n",
       "    <tr>\n",
       "      <th>Team</th>\n",
       "      <th></th>\n",
       "      <th></th>\n",
       "      <th></th>\n",
       "    </tr>\n",
       "  </thead>\n",
       "  <tbody>\n",
       "    <tr>\n",
       "      <th>Aachen</th>\n",
       "      <td>0</td>\n",
       "      <td>0</td>\n",
       "      <td>0</td>\n",
       "    </tr>\n",
       "    <tr>\n",
       "      <th>Augsburg</th>\n",
       "      <td>0</td>\n",
       "      <td>0</td>\n",
       "      <td>0</td>\n",
       "    </tr>\n",
       "    <tr>\n",
       "      <th>Bayern Munich</th>\n",
       "      <td>0</td>\n",
       "      <td>0</td>\n",
       "      <td>0</td>\n",
       "    </tr>\n",
       "    <tr>\n",
       "      <th>Bochum</th>\n",
       "      <td>0</td>\n",
       "      <td>0</td>\n",
       "      <td>0</td>\n",
       "    </tr>\n",
       "    <tr>\n",
       "      <th>Braunschweig</th>\n",
       "      <td>0</td>\n",
       "      <td>0</td>\n",
       "      <td>0</td>\n",
       "    </tr>\n",
       "  </tbody>\n",
       "</table>\n",
       "</div>"
      ],
      "text/plain": [
       "               Wins  Loses  Draws\n",
       "Team                             \n",
       "Aachen            0      0      0\n",
       "Augsburg          0      0      0\n",
       "Bayern Munich     0      0      0\n",
       "Bochum            0      0      0\n",
       "Braunschweig      0      0      0"
      ]
     },
     "execution_count": 764,
     "metadata": {},
     "output_type": "execute_result"
    }
   ],
   "source": [
    "#sample of how this dataframe looks, but it is for all 36 teams in the league\n",
    "\n",
    "win_lose_count_df.head()"
   ]
  },
  {
   "cell_type": "code",
   "execution_count": 765,
   "metadata": {},
   "outputs": [],
   "source": [
    "\"\"\"\n",
    "this logic returns an iterator of the all_german_2011_season_df dataframe and we sum the number of away wins, \n",
    "home wins and draw count in the win_lose_count_df dataframe\n",
    "\"\"\"\n",
    "\n",
    "for i, row in all_german_2011_season_df.iterrows():\n",
    "    if row['FTR'] == 'A':\n",
    "        win_lose_count_df.loc[row[\"AwayTeam\"]][\"Wins\"] +=1\n",
    "    if row['FTR'] == 'H':\n",
    "        win_lose_count_df.loc[row[\"HomeTeam\"]][\"Wins\"] +=1\n",
    "    if row['FTR'] == 'D':\n",
    "        win_lose_count_df.loc[row[\"HomeTeam\"]][\"Draws\"] +=1"
   ]
  },
  {
   "cell_type": "code",
   "execution_count": 766,
   "metadata": {},
   "outputs": [],
   "source": [
    "\"\"\"\n",
    "We have double counted the number of wins in the all_german_2011_season_df dataframe as each match \n",
    "is entered twice (for the home teams and the away team). The most expedient way of accounting for \n",
    "this is two divide the number of wins by two. \n",
    "\"\"\"\n",
    "\n",
    "win_lose_count_df[\"Wins\"] = win_lose_count_df[\"Wins\"]/2"
   ]
  },
  {
   "cell_type": "code",
   "execution_count": 767,
   "metadata": {},
   "outputs": [],
   "source": [
    "\"\"\"\n",
    "As above we have double counted the number of draws from the original dataframe and so we have to control\n",
    "for this.\n",
    "\"\"\"\n",
    "\n",
    "win_lose_count_df[\"Draws\"] = win_lose_count_df[\"Draws\"]/2"
   ]
  },
  {
   "cell_type": "code",
   "execution_count": 768,
   "metadata": {},
   "outputs": [],
   "source": [
    "\"\"\"\n",
    "There are 34 matches in a season so we calculate the number of losses based on the number of wins\n",
    "and draws already calculated.\n",
    "\"\"\"\n",
    "\n",
    "win_lose_count_df[\"Loses\"] = 34 - win_lose_count_df[\"Wins\"] - win_lose_count_df[\"Draws\"] "
   ]
  },
  {
   "cell_type": "code",
   "execution_count": 770,
   "metadata": {},
   "outputs": [
    {
     "data": {
      "text/html": [
       "<div>\n",
       "<style scoped>\n",
       "    .dataframe tbody tr th:only-of-type {\n",
       "        vertical-align: middle;\n",
       "    }\n",
       "\n",
       "    .dataframe tbody tr th {\n",
       "        vertical-align: top;\n",
       "    }\n",
       "\n",
       "    .dataframe thead th {\n",
       "        text-align: right;\n",
       "    }\n",
       "</style>\n",
       "<table border=\"1\" class=\"dataframe\">\n",
       "  <thead>\n",
       "    <tr style=\"text-align: right;\">\n",
       "      <th></th>\n",
       "      <th>Wins</th>\n",
       "      <th>Loses</th>\n",
       "      <th>Draws</th>\n",
       "    </tr>\n",
       "    <tr>\n",
       "      <th>Team</th>\n",
       "      <th></th>\n",
       "      <th></th>\n",
       "      <th></th>\n",
       "    </tr>\n",
       "  </thead>\n",
       "  <tbody>\n",
       "    <tr>\n",
       "      <th>Aachen</th>\n",
       "      <td>6.0</td>\n",
       "      <td>22.0</td>\n",
       "      <td>6.0</td>\n",
       "    </tr>\n",
       "    <tr>\n",
       "      <th>Augsburg</th>\n",
       "      <td>8.0</td>\n",
       "      <td>19.0</td>\n",
       "      <td>7.0</td>\n",
       "    </tr>\n",
       "    <tr>\n",
       "      <th>Bayern Munich</th>\n",
       "      <td>23.0</td>\n",
       "      <td>10.0</td>\n",
       "      <td>1.0</td>\n",
       "    </tr>\n",
       "    <tr>\n",
       "      <th>Bochum</th>\n",
       "      <td>10.0</td>\n",
       "      <td>21.0</td>\n",
       "      <td>3.0</td>\n",
       "    </tr>\n",
       "    <tr>\n",
       "      <th>Braunschweig</th>\n",
       "      <td>10.0</td>\n",
       "      <td>16.0</td>\n",
       "      <td>8.0</td>\n",
       "    </tr>\n",
       "  </tbody>\n",
       "</table>\n",
       "</div>"
      ],
      "text/plain": [
       "               Wins  Loses  Draws\n",
       "Team                             \n",
       "Aachen          6.0   22.0    6.0\n",
       "Augsburg        8.0   19.0    7.0\n",
       "Bayern Munich  23.0   10.0    1.0\n",
       "Bochum         10.0   21.0    3.0\n",
       "Braunschweig   10.0   16.0    8.0"
      ]
     },
     "execution_count": 770,
     "metadata": {},
     "output_type": "execute_result"
    }
   ],
   "source": [
    "#a sample of how the table looks for the first five teams\n",
    "\n",
    "win_lose_count_df.head(5)"
   ]
  },
  {
   "cell_type": "code",
   "execution_count": 771,
   "metadata": {},
   "outputs": [],
   "source": [
    "#we sort on the index in an ascending way, in order to make the visualisation below easier to understand\n",
    "\n",
    "win_lose_count_df.sort_index(by=\"Wins\", ascending = False, inplace=True)"
   ]
  },
  {
   "cell_type": "code",
   "execution_count": 772,
   "metadata": {},
   "outputs": [
    {
     "data": {
      "image/png": "[encoded data removed]",
      "text/plain": [
       "<Figure size 1440x720 with 1 Axes>"
      ]
     },
     "metadata": {},
     "output_type": "display_data"
    }
   ],
   "source": [
    "#here we are creating the key visualisation and saving it to a file for external use\n",
    "\n",
    "ax = win_lose_count_df.plot.bar(stacked = \"True\", figsize = (20,10))\n",
    "ax.set_xlabel(\"Teams\", fontsize = 20)\n",
    "ax.set_ylabel(\"Games\", fontsize = 20)\n",
    "ax.grid(False)\n",
    "ax.set_title(\"2011 Season German Team Performance\", fontsize = 40)\n",
    "ax.legend(loc='upper right', ncol=3, fancybox=True, bbox_to_anchor=(1, 1.02), shadow=True, fontsize = 20)\n",
    "plt.savefig('german_team_performance_team.png');"
   ]
  },
  {
   "cell_type": "markdown",
   "metadata": {},
   "source": [
    "## Cursory Analysis\n",
    "\n",
    "We can see from this visualisation that the top 3 performing teams by wins achieved are:\n",
    "\n",
    "* Dortmund\n",
    "* Bayern Munich\n",
    "* Greuther Furth\n",
    "\n",
    "This ties in with the success we have seen for Dortmund and Bayern Munich in terms of goals scored. Greuther Furth are intersting because in terms of goals scored, they were at position 5. This visualisation highlights the gap in performance between the highest performing (top 3) teams and the rest of the population."
   ]
  },
  {
   "cell_type": "markdown",
   "metadata": {},
   "source": [
    "##To do:\n",
    "\n",
    "Due to time constraints, I've not been able to complete all tasks in the lab. I'll complete the remainder of these tasks over time. The remainder of tasks to be done are:\n",
    "\n",
    "[ ] Retrieve data from the Darksky API\n",
    "\n",
    "[ ] Cross reference data and analyse\n",
    "\n",
    "[ ] Upload findings to a Mongo DB\n",
    "\n",
    "[ ] Use OOP classes to implement the above functionality\n"
   ]
  },
  {
   "cell_type": "code",
   "execution_count": null,
   "metadata": {},
   "outputs": [],
   "source": []
  }
 ],
 "metadata": {
  "kernelspec": {
   "display_name": "Python 3",
   "language": "python",
   "name": "python3"
  },
  "language_info": {
   "codemirror_mode": {
    "name": "ipython",
    "version": 3
   },
   "file_extension": ".py",
   "mimetype": "text/x-python",
   "name": "python",
   "nbconvert_exporter": "python",
   "pygments_lexer": "ipython3",
   "version": "3.6.6"
  }
 },
 "nbformat": 4,
 "nbformat_minor": 4
}
