{
 "cells": [
  {
   "cell_type": "code",
   "execution_count": 1,
   "metadata": {},
   "outputs": [],
   "source": [
    "from datetime import datetime\n",
    "from functools import lru_cache\n",
    "import sqlite3\n",
    "\n",
    "import pandas as pd\n",
    "import pymongo\n",
    "import requests"
   ]
  },
  {
   "cell_type": "code",
   "execution_count": 2,
   "metadata": {},
   "outputs": [],
   "source": [
    "conn = sqlite3.connect('database.sqlite')\n",
    "cur =  conn.cursor()"
   ]
  },
  {
   "cell_type": "code",
   "execution_count": 3,
   "metadata": {},
   "outputs": [],
   "source": [
    "teams = [r[0] for r in cur.execute(\"\"\"SELECT DISTINCT AwayTeam FROM Matches\n",
    "                                    WHERE (Div = \"D1\" OR Div = \"D2\")\n",
    "                                    AND Season = 2011\n",
    "                                    ORDER BY AwayTeam\"\"\").fetchall()]"
   ]
  },
  {
   "cell_type": "code",
   "execution_count": 4,
   "metadata": {},
   "outputs": [],
   "source": [
    "def team_goals_wins():\n",
    "    def _fetch(calc, side, team, ftr):\n",
    "        return cur.execute(f\"\"\"SELECT {calc} FROM Matches\n",
    "                            WHERE {side} = ?\n",
    "                            AND FTR LIKE \"{ftr}\"\n",
    "                            AND (Div = \"D1\" OR Div = \"D2\")\n",
    "                            AND Season = 2011\"\"\", (team,)).fetchone()[0]\n",
    "        \n",
    "    out = []\n",
    "    for team in teams:\n",
    "        away_goals = _fetch(\"SUM(FTAG)\", \"AwayTeam\", team, \"%\")\n",
    "        home_goals = _fetch(\"SUM(FTHG)\", \"HomeTeam\", team, \"%\")\n",
    "        away_wins = _fetch(\"COUNT(*)\", \"AwayTeam\", team, \"A\")\n",
    "        home_wins = _fetch(\"COUNT(*)\", \"HomeTeam\", team, \"H\")\n",
    "\n",
    "        out.append((team, away_goals, home_goals, away_wins, home_wins))\n",
    "    return out"
   ]
  },
  {
   "cell_type": "code",
   "execution_count": 26,
   "metadata": {
    "scrolled": true
   },
   "outputs": [
    {
     "data": {
      "text/html": [
       "<div>\n",
       "<style scoped>\n",
       "    .dataframe tbody tr th:only-of-type {\n",
       "        vertical-align: middle;\n",
       "    }\n",
       "\n",
       "    .dataframe tbody tr th {\n",
       "        vertical-align: top;\n",
       "    }\n",
       "\n",
       "    .dataframe thead th {\n",
       "        text-align: right;\n",
       "    }\n",
       "</style>\n",
       "<table border=\"1\" class=\"dataframe\">\n",
       "  <thead>\n",
       "    <tr style=\"text-align: right;\">\n",
       "      <th></th>\n",
       "      <th>Team</th>\n",
       "      <th>AwayGoals</th>\n",
       "      <th>HomeGoals</th>\n",
       "      <th>AwayWins</th>\n",
       "      <th>HomeWins</th>\n",
       "    </tr>\n",
       "  </thead>\n",
       "  <tbody>\n",
       "    <tr>\n",
       "      <th>0</th>\n",
       "      <td>Aachen</td>\n",
       "      <td>15</td>\n",
       "      <td>15</td>\n",
       "      <td>2</td>\n",
       "      <td>4</td>\n",
       "    </tr>\n",
       "    <tr>\n",
       "      <th>1</th>\n",
       "      <td>Augsburg</td>\n",
       "      <td>16</td>\n",
       "      <td>20</td>\n",
       "      <td>2</td>\n",
       "      <td>6</td>\n",
       "    </tr>\n",
       "    <tr>\n",
       "      <th>2</th>\n",
       "      <td>Bayern Munich</td>\n",
       "      <td>28</td>\n",
       "      <td>49</td>\n",
       "      <td>9</td>\n",
       "      <td>14</td>\n",
       "    </tr>\n",
       "    <tr>\n",
       "      <th>3</th>\n",
       "      <td>Bochum</td>\n",
       "      <td>18</td>\n",
       "      <td>23</td>\n",
       "      <td>3</td>\n",
       "      <td>7</td>\n",
       "    </tr>\n",
       "    <tr>\n",
       "      <th>4</th>\n",
       "      <td>Braunschweig</td>\n",
       "      <td>16</td>\n",
       "      <td>21</td>\n",
       "      <td>4</td>\n",
       "      <td>6</td>\n",
       "    </tr>\n",
       "  </tbody>\n",
       "</table>\n",
       "</div>"
      ],
      "text/plain": [
       "            Team  AwayGoals  HomeGoals  AwayWins  HomeWins\n",
       "0         Aachen         15         15         2         4\n",
       "1       Augsburg         16         20         2         6\n",
       "2  Bayern Munich         28         49         9        14\n",
       "3         Bochum         18         23         3         7\n",
       "4   Braunschweig         16         21         4         6"
      ]
     },
     "execution_count": 26,
     "metadata": {},
     "output_type": "execute_result"
    }
   ],
   "source": [
    "team_goals_wins_df = pd.DataFrame(team_goals_wins())\n",
    "team_goals_wins_df.columns = (\"Team\", \"AwayGoals\", \"HomeGoals\", \"AwayWins\", \"HomeWins\")\n",
    "team_goals_wins_df.head()"
   ]
  },
  {
   "cell_type": "code",
   "execution_count": 6,
   "metadata": {},
   "outputs": [],
   "source": [
    "with open(\"./DARK_SKY_KEY.txt\", \"rt\") as f:\n",
    "    D_S_KEY = f.read()\n",
    "LAT = \"52.520008\"\n",
    "LON = \"13.404954\""
   ]
  },
  {
   "cell_type": "code",
   "execution_count": 13,
   "metadata": {},
   "outputs": [],
   "source": [
    "@lru_cache(maxsize=None)\n",
    "def ds_data(datestr):\n",
    "    \"\"\"Return Dark Sky daily data in Berlin on given date.\"\"\"\n",
    "    y, m, d = map(int, datestr.split('-'))\n",
    "    ts = int(datetime(y, m, d, 12).timestamp())\n",
    "    url = (\"https://api.darksky.net/forecast/\" \n",
    "           f\"{D_S_KEY}/{LAT},{LON},{ts}\"\n",
    "           \"?exclude=currently,hourly,flags\")\n",
    "    return requests.get(url).json()['daily']['data'][0]"
   ]
  },
  {
   "cell_type": "code",
   "execution_count": 16,
   "metadata": {},
   "outputs": [],
   "source": [
    "def was_raining(datestr):\n",
    "    \"\"\"Return whether there was precipitation in Berlin on given date.\"\"\"\n",
    "    data =  ds_data(datestr)\n",
    "    return data['precipIntensity'] > 0    "
   ]
  },
  {
   "cell_type": "code",
   "execution_count": 47,
   "metadata": {},
   "outputs": [],
   "source": [
    "weather_performance = []\n",
    "for team in teams:\n",
    "    ndry_games = 0\n",
    "    ndry_losses = 0\n",
    "    ndry_wins = 0\n",
    "    nwet_games = 0\n",
    "    nwet_losses = 0\n",
    "    nwet_wins = 0\n",
    "    \n",
    "    games = cur.execute(\"\"\"SELECT Date, AwayTeam, HomeTeam, FTR FROM Matches\n",
    "                    WHERE (AwayTeam = ? OR HomeTeam = ?)\n",
    "                    AND (Div = \"D1\" OR Div = \"D2\")\n",
    "                    AND Season = 2011\"\"\", (team, team)).fetchall()\n",
    "\n",
    "    for datestr, away_team, home_team, ftr in games:\n",
    "        was_win = (away_team == team and ftr == 'A' or home_team == team and ftr == 'H')\n",
    "        was_loss = (away_team == team and ftr == 'H' or home_team == team and ftr == 'A')\n",
    "        if was_raining(datestr):\n",
    "            nwet_games += 1\n",
    "            if was_win:\n",
    "                nwet_wins += 1\n",
    "            elif was_loss:\n",
    "                nwet_losses += 1\n",
    "        else:\n",
    "            ndry_games += 1\n",
    "            if was_win:\n",
    "                ndry_wins += 1\n",
    "            elif was_loss:\n",
    "                ndry_losses += 1\n",
    "    #print(team, 100 * ndry_wins / ndry_games, 100 * nwet_wins / nwet_games) \n",
    "    weather_performance.append((team, 100 * ndry_wins / ndry_games, 100 * nwet_wins / nwet_games))"
   ]
  },
  {
   "cell_type": "code",
   "execution_count": 80,
   "metadata": {},
   "outputs": [],
   "source": [
    "weather_performance_df = pd.DataFrame(weather_performance, columns = (\"Team\", \"Dry Win Rate (%)\", \"Wet WIn Rate (%)\"))"
   ]
  },
  {
   "cell_type": "code",
   "execution_count": 81,
   "metadata": {},
   "outputs": [
    {
     "data": {
      "text/html": [
       "<div>\n",
       "<style scoped>\n",
       "    .dataframe tbody tr th:only-of-type {\n",
       "        vertical-align: middle;\n",
       "    }\n",
       "\n",
       "    .dataframe tbody tr th {\n",
       "        vertical-align: top;\n",
       "    }\n",
       "\n",
       "    .dataframe thead th {\n",
       "        text-align: right;\n",
       "    }\n",
       "</style>\n",
       "<table border=\"1\" class=\"dataframe\">\n",
       "  <thead>\n",
       "    <tr style=\"text-align: right;\">\n",
       "      <th></th>\n",
       "      <th>Team</th>\n",
       "      <th>AwayGoals</th>\n",
       "      <th>HomeGoals</th>\n",
       "      <th>AwayWins</th>\n",
       "      <th>HomeWins</th>\n",
       "      <th>Dry Win Rate (%)</th>\n",
       "      <th>Wet WIn Rate (%)</th>\n",
       "    </tr>\n",
       "  </thead>\n",
       "  <tbody>\n",
       "    <tr>\n",
       "      <th>0</th>\n",
       "      <td>Aachen</td>\n",
       "      <td>15</td>\n",
       "      <td>15</td>\n",
       "      <td>2</td>\n",
       "      <td>4</td>\n",
       "      <td>16.666667</td>\n",
       "      <td>20.000000</td>\n",
       "    </tr>\n",
       "    <tr>\n",
       "      <th>1</th>\n",
       "      <td>Augsburg</td>\n",
       "      <td>16</td>\n",
       "      <td>20</td>\n",
       "      <td>2</td>\n",
       "      <td>6</td>\n",
       "      <td>20.000000</td>\n",
       "      <td>33.333333</td>\n",
       "    </tr>\n",
       "    <tr>\n",
       "      <th>2</th>\n",
       "      <td>Bayern Munich</td>\n",
       "      <td>28</td>\n",
       "      <td>49</td>\n",
       "      <td>9</td>\n",
       "      <td>14</td>\n",
       "      <td>65.384615</td>\n",
       "      <td>75.000000</td>\n",
       "    </tr>\n",
       "    <tr>\n",
       "      <th>3</th>\n",
       "      <td>Bochum</td>\n",
       "      <td>18</td>\n",
       "      <td>23</td>\n",
       "      <td>3</td>\n",
       "      <td>7</td>\n",
       "      <td>32.000000</td>\n",
       "      <td>22.222222</td>\n",
       "    </tr>\n",
       "    <tr>\n",
       "      <th>4</th>\n",
       "      <td>Braunschweig</td>\n",
       "      <td>16</td>\n",
       "      <td>21</td>\n",
       "      <td>4</td>\n",
       "      <td>6</td>\n",
       "      <td>23.076923</td>\n",
       "      <td>50.000000</td>\n",
       "    </tr>\n",
       "  </tbody>\n",
       "</table>\n",
       "</div>"
      ],
      "text/plain": [
       "            Team  AwayGoals  HomeGoals  AwayWins  HomeWins  Dry Win Rate (%)  \\\n",
       "0         Aachen         15         15         2         4         16.666667   \n",
       "1       Augsburg         16         20         2         6         20.000000   \n",
       "2  Bayern Munich         28         49         9        14         65.384615   \n",
       "3         Bochum         18         23         3         7         32.000000   \n",
       "4   Braunschweig         16         21         4         6         23.076923   \n",
       "\n",
       "   Wet WIn Rate (%)  \n",
       "0         20.000000  \n",
       "1         33.333333  \n",
       "2         75.000000  \n",
       "3         22.222222  \n",
       "4         50.000000  "
      ]
     },
     "execution_count": 81,
     "metadata": {},
     "output_type": "execute_result"
    }
   ],
   "source": [
    "team_data_df = team_goals_wins_df.merge(weather_performance_df, on='Team')\n",
    "team_data_df.head()"
   ]
  },
  {
   "cell_type": "code",
   "execution_count": 30,
   "metadata": {},
   "outputs": [],
   "source": [
    "client = pymongo.MongoClient()"
   ]
  },
  {
   "cell_type": "code",
   "execution_count": 44,
   "metadata": {},
   "outputs": [],
   "source": [
    "#print(client.admin.command(\"serverStatus\"))"
   ]
  },
  {
   "cell_type": "code",
   "execution_count": 33,
   "metadata": {},
   "outputs": [],
   "source": [
    "db = client.football_delphi"
   ]
  },
  {
   "cell_type": "code",
   "execution_count": 58,
   "metadata": {},
   "outputs": [],
   "source": [
    "for _, row in team_data_df.iterrows():\n",
    "    (team_name, away_goals, home_goals, away_wins, home_wins, dry_win_rate, wet_win_rate) = row\n",
    "    team = {\n",
    "        'name': team_name,\n",
    "        'goals': away_goals + home_goals,\n",
    "        'wins': away_wins + home_wins,\n",
    "        'dry_win_rate': dry_win_rate,\n",
    "        'wet_win_rate': wet_win_rate,\n",
    "    }\n",
    "    result = db.teams.insert_one(team)\n",
    "    #print(team_name, result)"
   ]
  },
  {
   "cell_type": "code",
   "execution_count": 57,
   "metadata": {},
   "outputs": [
    {
     "data": {
      "text/plain": [
       "612"
      ]
     },
     "execution_count": 57,
     "metadata": {},
     "output_type": "execute_result"
    }
   ],
   "source": [
    "len([r[0] for r in cur.execute(\"\"\"SELECT Date FROM Matches\n",
    "                                    WHERE (Div = \"D1\" OR Div = \"D2\")\n",
    "                                    AND Season = 2011\"\"\").fetchall()])"
   ]
  },
  {
   "cell_type": "code",
   "execution_count": 59,
   "metadata": {},
   "outputs": [
    {
     "data": {
      "text/plain": [
       "<sqlite3.Cursor at 0xa8172a0>"
      ]
     },
     "execution_count": 59,
     "metadata": {},
     "output_type": "execute_result"
    }
   ],
   "source": [
    "cur.executescript(\"\"\"\n",
    "        CREATE TEMP VIEW IF NOT EXISTS Bundesliga_2011 \n",
    "        AS\n",
    "        SELECT * FROM Matches\n",
    "        WHERE (Div = \"D1\" OR Div = \"D2\")\n",
    "        AND Season = 2011;\"\"\")"
   ]
  },
  {
   "cell_type": "code",
   "execution_count": 76,
   "metadata": {},
   "outputs": [],
   "source": [
    "team_name = teams[4]\n",
    "def foo():\n",
    "    return cur.execute(\"\"\"SELECT Date FROM Bundesliga_2011 AS B\n",
    "                JOIN Teams_in_Matches AS TIM  ON B.Match_ID=TIM.Match_ID\n",
    "                JOIN Unique_Teams AS UT ON TIM.Unique_Team_ID=UT.Unique_Team_ID \n",
    "                WHERE UT.TeamName=?\"\"\", (team_name,)).fetchall()"
   ]
  },
  {
   "cell_type": "code",
   "execution_count": 77,
   "metadata": {},
   "outputs": [],
   "source": [
    "def bar():\n",
    "    return cur.execute(\"\"\"SELECT Date FROM Bundesliga_2011 \n",
    "                    WHERE AwayTeam=? OR HomeTeam=?\"\"\", (team_name, team_name)).fetchall()"
   ]
  },
  {
   "cell_type": "code",
   "execution_count": 78,
   "metadata": {},
   "outputs": [
    {
     "name": "stdout",
     "output_type": "stream",
     "text": [
      "12.3 ms ± 20.5 µs per loop (mean ± std. dev. of 7 runs, 100 loops each)\n"
     ]
    }
   ],
   "source": [
    "%timeit foo()"
   ]
  },
  {
   "cell_type": "code",
   "execution_count": 79,
   "metadata": {},
   "outputs": [
    {
     "name": "stdout",
     "output_type": "stream",
     "text": [
      "3.47 ms ± 52.6 µs per loop (mean ± std. dev. of 7 runs, 100 loops each)\n"
     ]
    }
   ],
   "source": [
    "%timeit bar()"
   ]
  },
  {
   "cell_type": "code",
   "execution_count": null,
   "metadata": {},
   "outputs": [],
   "source": []
  }
 ],
 "metadata": {
  "kernelspec": {
   "display_name": "Python 3",
   "language": "python",
   "name": "python3"
  },
  "language_info": {
   "codemirror_mode": {
    "name": "ipython",
    "version": 3
   },
   "file_extension": ".py",
   "mimetype": "text/x-python",
   "name": "python",
   "nbconvert_exporter": "python",
   "pygments_lexer": "ipython3",
   "version": "3.7.2"
  }
 },
 "nbformat": 4,
 "nbformat_minor": 4
}
