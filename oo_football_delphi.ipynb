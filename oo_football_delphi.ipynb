{
 "cells": [
  {
   "cell_type": "code",
   "execution_count": 1,
   "metadata": {},
   "outputs": [],
   "source": [
    "from datetime import datetime\n",
    "from functools import lru_cache\n",
    "import io\n",
    "import os\n",
    "import sqlite3\n",
    "from time import time\n",
    "\n",
    "from dotenv import load_dotenv\n",
    "from IPython.display import Image\n",
    "import matplotlib.pyplot as plt\n",
    "from pymongo import MongoClient\n",
    "import requests"
   ]
  },
  {
   "cell_type": "code",
   "execution_count": 2,
   "metadata": {},
   "outputs": [
    {
     "data": {
      "text/plain": [
       "True"
      ]
     },
     "execution_count": 2,
     "metadata": {},
     "output_type": "execute_result"
    }
   ],
   "source": [
    "load_dotenv(verbose=True)"
   ]
  },
  {
   "cell_type": "code",
   "execution_count": 3,
   "metadata": {},
   "outputs": [],
   "source": [
    "class WeatherGetter:\n",
    "    \"\"\"Interface for accessing Dark Sky historical weather data.\n",
    "    \n",
    "    [https://darksky.net/poweredby]\"\"\"\n",
    "    LAT = 52.520008\n",
    "    LON = 13.404954\n",
    "    KEY = os.getenv('DARK_SKY_KEY')\n",
    "        \n",
    "    @classmethod\n",
    "    @lru_cache(maxsize=None)\n",
    "    def get_data(cls, dt):\n",
    "        \"\"\"Return daily data for Berlin on given datetime.\"\"\"\n",
    "        ts = int(dt.timestamp())\n",
    "        url = (\"https://api.darksky.net/forecast/\" \n",
    "               f\"{cls.KEY}/{cls.LAT},{cls.LON},{ts}\"\n",
    "               \"?exclude=currently,hourly,flags\")\n",
    "        return requests.get(url).json()['daily']['data'][0]\n",
    "    \n",
    "    @classmethod\n",
    "    def was_raining(cls, dt):\n",
    "        \"\"\"Return a bool whether there was precipitation on the input datetime.\"\"\"\n",
    "        return cls.get_data(dt)['precipIntensity'] > 0"
   ]
  },
  {
   "cell_type": "code",
   "execution_count": 4,
   "metadata": {},
   "outputs": [],
   "source": [
    "class TeamData:\n",
    "    \"\"\"Extract data from Football Delphi dataset.\n",
    "    \n",
    "    [https://www.kaggle.com/laudanum/footballdelphi]\"\"\"\n",
    "    def __init__(self, team_name):\n",
    "        self.team_name = team_name\n",
    "        self.conn = self._connection()\n",
    "        self.cur = self.conn.cursor()       \n",
    "        self.cur.executescript(\n",
    "            f\"\"\"CREATE TEMP VIEW IF NOT EXISTS Team_Matches\n",
    "            AS\n",
    "            SELECT * FROM Bundesliga_2011 AS B\n",
    "            JOIN Teams_in_Matches AS TIM  ON B.Match_ID=TIM.Match_ID\n",
    "            JOIN Unique_Teams AS UT ON TIM.Unique_Team_ID=UT.Unique_Team_ID \n",
    "            WHERE UT.TeamName=\"{team_name}\";\"\"\")\n",
    "        \n",
    "    @classmethod\n",
    "    def _connection(cls):\n",
    "        conn = sqlite3.connect('database.sqlite')\n",
    "        conn.cursor().executescript(\n",
    "            \"\"\"CREATE TEMP VIEW IF NOT EXISTS Bundesliga_2011 \n",
    "            AS\n",
    "            SELECT * FROM Matches\n",
    "            WHERE (Div=\"D1\" OR Div=\"D2\") AND Season=2011;\"\"\")\n",
    "        return conn\n",
    "    \n",
    "    @classmethod\n",
    "    def team_names(cls):\n",
    "        \"\"\"Return list of team names in alphabetical order.\"\"\"\n",
    "        return [r for (r,) in cls._connection().cursor().execute(\n",
    "                                                \"\"\"SELECT DISTINCT AwayTeam \n",
    "                                                FROM Bundesliga_2011 \n",
    "                                                ORDER BY AwayTeam\"\"\").fetchall()]\n",
    "    \n",
    "    def _parse_match_date(self, datestr):\n",
    "        return datetime.strptime(datestr, '%Y-%m-%d') # TODO: handle timezones\n",
    "    \n",
    "    def get_total_wins(self):\n",
    "        \"\"\"Return number of matches won in 2011 season.\"\"\"\n",
    "        return len(self.get_win_dates())\n",
    "    \n",
    "    def get_total_goals(self):\n",
    "        \"\"\"Return number of goals scored in 2011 season.\"\"\"\n",
    "        away_goals = self.cur.execute(\"\"\"SELECT SUM(FTAG) FROM Team_Matches\n",
    "                            WHERE AwayTeam=?\"\"\", (self.team_name,)).fetchone()[0]\n",
    "        home_goals = self.cur.execute(\"\"\"SELECT SUM(FTHG) FROM Team_Matches\n",
    "                            WHERE HomeTeam=?\"\"\", (self.team_name,)).fetchone()[0]\n",
    "        return away_goals + home_goals\n",
    "    \n",
    "    def get_loss_dates(self):\n",
    "        \"\"\"Return list of dates on which the team lost matches.\"\"\"\n",
    "        return [self._parse_match_date(d[0])\n",
    "                for d in self.cur.execute(\"\"\"SELECT Date FROM Team_Matches\n",
    "                                            WHERE (AwayTeam=:team AND FTR=\"H\") \n",
    "                                            OR (HomeTeam=:team AND FTR=\"A\")\"\"\", \n",
    "                                            {'team': self.team_name}).fetchall()]\n",
    "    \n",
    "    def get_win_dates(self):\n",
    "        \"\"\"Return list of dates on which the team won matches.\"\"\"\n",
    "        return [self._parse_match_date(d[0])\n",
    "                for d in self.cur.execute(\"\"\"SELECT Date FROM Team_Matches\n",
    "                                            WHERE (AwayTeam=:team AND FTR=\"A\") \n",
    "                                            OR (HomeTeam=:team AND FTR=\"H\")\"\"\", \n",
    "                                            {'team': self.team_name}).fetchall()]\n",
    "    \n",
    "    def get_match_dates(self):\n",
    "        \"\"\"Return list of dates on which the team played matches.\"\"\"\n",
    "        return [self._parse_match_date(d[0])\n",
    "                for d in self.cur.execute(\"\"\"SELECT Date FROM Team_Matches\"\"\").fetchall()]\n",
    "    \n",
    "    def get_win_rate(self, wet=True):\n",
    "        \"\"\"Return percentage of matches won, wet parameter selects rainy days or dry if False.\"\"\"\n",
    "        nmatches, nwins = 0, 0\n",
    "        win_dates = set(self.get_win_dates())\n",
    "        \n",
    "        for d in self.get_match_dates():\n",
    "            was_raining = WeatherGetter.was_raining(d)\n",
    "            if wet and not was_raining or not wet and was_raining:\n",
    "                    continue\n",
    "            nmatches += 1\n",
    "            if d in win_dates:\n",
    "                nwins += 1\n",
    "        \n",
    "        return 100 * nwins / nmatches"
   ]
  },
  {
   "cell_type": "code",
   "execution_count": 5,
   "metadata": {},
   "outputs": [],
   "source": [
    "class MongoHandler:\n",
    "    def __init__(self):\n",
    "        self.client = MongoClient(os.getenv('MONGODB_URI'))\n",
    "        self.teams = self.client.bundesliga2011.teams\n",
    "        \n",
    "    def insert_team(self, team):\n",
    "        self.teams.insert_one(team)\n",
    "        \n",
    "    def get_team(self, team_name):\n",
    "        return self.teams.find_one({'name': team_name})"
   ]
  },
  {
   "cell_type": "code",
   "execution_count": 6,
   "metadata": {},
   "outputs": [],
   "source": [
    "plt.style.use('bmh')\n",
    "\n",
    "\n",
    "def hist_vis(team_name, win_dates, loss_dates):\n",
    "    \"\"\"Return bytes representing PNG image of histogram visualisation.\"\"\"\n",
    "    plt.figure(figsize=(13, 7))\n",
    "    plt.hist([win_dates, loss_dates], \n",
    "             color=['green', 'red'], bins=9)\n",
    "    plt.legend(['Wins', 'Losses'])\n",
    "    plt.axis([datetime(2011,7,1), datetime(2012,6,1), 0, 9])\n",
    "    plt.xlabel('Date')\n",
    "    plt.ylabel('Frequency')\n",
    "    plt.title(f\"Wins and Losses for {team_name}\")\n",
    "\n",
    "    buf = io.BytesIO()\n",
    "    plt.savefig(buf, format='png')\n",
    "    plt.close()\n",
    "    \n",
    "    return buf.getvalue()"
   ]
  },
  {
   "cell_type": "code",
   "execution_count": 7,
   "metadata": {
    "scrolled": true
   },
   "outputs": [],
   "source": [
    "# team_name = TeamData.team_names()[6]\n",
    "# td = TeamData(team_name)\n",
    "# Image(hist_vis(team_name, td.get_win_dates(), td.get_loss_dates()))"
   ]
  },
  {
   "cell_type": "code",
   "execution_count": 8,
   "metadata": {},
   "outputs": [],
   "source": [
    "def do_etl():\n",
    "    etl_start = time()\n",
    "    mh = MongoHandler()\n",
    "    for name in TeamData.team_names():\n",
    "        td = TeamData(name)\n",
    "        print(f\"{name}: creating png\", end='')\n",
    "        start = time()\n",
    "        img_data = hist_vis(name, td.get_win_dates(), td.get_loss_dates())\n",
    "        \n",
    "        print(f\" ({time() - start:.3}s). computing win rate\", end='')\n",
    "        start = time()\n",
    "        win_rate = td.get_win_rate()\n",
    "        \n",
    "        print(f\" ({time() - start:.3}s). goals, wins, and inserting record\", end='')\n",
    "        start = time()\n",
    "        team = {\n",
    "            'name': name,\n",
    "            'goals': td.get_total_goals(),\n",
    "            'wins': td.get_total_wins(),\n",
    "            'histogramVisualisationPng': img_data,\n",
    "            'winRateWhenRaining': win_rate\n",
    "        }\n",
    "        mh.insert_team(team)\n",
    "        print(f\" ({time() - start:.3}s).\")\n",
    "    print(f\"\\nCompleted ETL in {time() - etl_start:.3}s\")"
   ]
  },
  {
   "cell_type": "code",
   "execution_count": 9,
   "metadata": {},
   "outputs": [
    {
     "name": "stdout",
     "output_type": "stream",
     "text": [
      "Aachen: creating png (0.273s). computing win rate (17.4s). goals, wins, and inserting record (0.086s).\n",
      "Augsburg: creating png (0.258s). computing win rate (12.4s). goals, wins, and inserting record (0.049s).\n",
      "Bayern Munich: creating png (0.243s). computing win rate (5.67s). goals, wins, and inserting record (0.053s).\n",
      "Bochum: creating png (0.246s). computing win rate (7.83s). goals, wins, and inserting record (0.053s).\n",
      "Braunschweig: creating png (0.238s). computing win rate (7.26s). goals, wins, and inserting record (0.043s).\n",
      "Cottbus: creating png (0.242s). computing win rate (4.71s). goals, wins, and inserting record (0.052s).\n",
      "Dortmund: creating png (0.247s). computing win rate (1.05s). goals, wins, and inserting record (0.0978s).\n",
      "Dresden: creating png (0.274s). computing win rate (2.86s). goals, wins, and inserting record (0.0651s).\n",
      "Duisburg: creating png (0.238s). computing win rate (1.5s). goals, wins, and inserting record (0.052s).\n",
      "Ein Frankfurt: creating png (0.248s). computing win rate (3.61s). goals, wins, and inserting record (0.056s).\n",
      "Erzgebirge Aue: creating png (0.241s). computing win rate (1.1s). goals, wins, and inserting record (0.063s).\n",
      "FC Koln: creating png (0.237s). computing win rate (0.568s). goals, wins, and inserting record (0.0711s).\n",
      "Fortuna Dusseldorf: creating png (0.242s). computing win rate (1.5s). goals, wins, and inserting record (0.053s).\n",
      "Frankfurt FSV: creating png (0.242s). computing win rate (0.026s). goals, wins, and inserting record (0.037s).\n",
      "Freiburg: creating png (0.236s). computing win rate (0.564s). goals, wins, and inserting record (0.055s).\n",
      "Greuther Furth: creating png (0.238s). computing win rate (0.552s). goals, wins, and inserting record (0.065s).\n",
      "Hamburg: creating png (0.237s). computing win rate (0.025s). goals, wins, and inserting record (0.037s).\n",
      "Hannover: creating png (0.234s). computing win rate (0.52s). goals, wins, and inserting record (0.048s).\n",
      "Hansa Rostock: creating png (0.278s). computing win rate (0.025s). goals, wins, and inserting record (0.036s).\n",
      "Hertha: creating png (0.238s). computing win rate (0.025s). goals, wins, and inserting record (0.037s).\n",
      "Hoffenheim: creating png (0.24s). computing win rate (0.025s). goals, wins, and inserting record (0.038s).\n",
      "Ingolstadt: creating png (0.24s). computing win rate (0.025s). goals, wins, and inserting record (0.037s).\n",
      "Kaiserslautern: creating png (0.238s). computing win rate (0.025s). goals, wins, and inserting record (0.037s).\n",
      "Karlsruhe: creating png (0.239s). computing win rate (1.08s). goals, wins, and inserting record (0.057s).\n",
      "Leverkusen: creating png (0.239s). computing win rate (0.025s). goals, wins, and inserting record (0.037s).\n",
      "M'gladbach: creating png (0.234s). computing win rate (0.025s). goals, wins, and inserting record (0.036s).\n",
      "Mainz: creating png (0.236s). computing win rate (0.025s). goals, wins, and inserting record (0.036s).\n",
      "Munich 1860: creating png (0.24s). computing win rate (0.53s). goals, wins, and inserting record (0.048s).\n",
      "Nurnberg: creating png (0.241s). computing win rate (0.025s). goals, wins, and inserting record (0.038s).\n",
      "Paderborn: creating png (0.294s). computing win rate (0.026s). goals, wins, and inserting record (0.037s).\n",
      "Schalke 04: creating png (0.24s). computing win rate (0.025s). goals, wins, and inserting record (0.038s).\n",
      "St Pauli: creating png (0.238s). computing win rate (0.026s). goals, wins, and inserting record (0.038s).\n",
      "Stuttgart: creating png (0.245s). computing win rate (0.025s). goals, wins, and inserting record (0.038s).\n",
      "Union Berlin: creating png (0.235s). computing win rate (0.024s). goals, wins, and inserting record (0.037s).\n",
      "Werder Bremen: creating png (0.239s). computing win rate (0.025s). goals, wins, and inserting record (0.037s).\n",
      "Wolfsburg: creating png (0.241s). computing win rate (0.025s). goals, wins, and inserting record (0.038s).\n",
      "\n",
      "Completed ETL in 81.7s\n"
     ]
    }
   ],
   "source": [
    "do_etl()"
   ]
  },
  {
   "cell_type": "code",
   "execution_count": 11,
   "metadata": {},
   "outputs": [
    {
     "name": "stdout",
     "output_type": "stream",
     "text": [
      "{'_id': ObjectId('5e38e15154ad1ccf9d77c6ea'), 'name': 'Dortmund', 'goals': 80, 'wins': 25, 'winRateWhenRaining': 0}\n"
     ]
    },
    {
     "data": {
      "image/png": "[encoded data removed]",
      "text/plain": [
       "<IPython.core.display.Image object>"
      ]
     },
     "execution_count": 11,
     "metadata": {},
     "output_type": "execute_result"
    }
   ],
   "source": [
    "mh = MongoHandler()\n",
    "team_name = TeamData.team_names()[6]\n",
    "t = mh.get_team(team_name)\n",
    "print({k:v for k, v in t.items() if k != 'histogramVisualisationPng'})\n",
    "Image(t['histogramVisualisationPng'])"
   ]
  },
  {
   "cell_type": "code",
   "execution_count": null,
   "metadata": {},
   "outputs": [],
   "source": []
  }
 ],
 "metadata": {
  "celltoolbar": "Raw Cell Format",
  "kernelspec": {
   "display_name": "Python 3",
   "language": "python",
   "name": "python3"
  },
  "language_info": {
   "codemirror_mode": {
    "name": "ipython",
    "version": 3
   },
   "file_extension": ".py",
   "mimetype": "text/x-python",
   "name": "python",
   "nbconvert_exporter": "python",
   "pygments_lexer": "ipython3",
   "version": "3.7.2"
  }
 },
 "nbformat": 4,
 "nbformat_minor": 4
}
